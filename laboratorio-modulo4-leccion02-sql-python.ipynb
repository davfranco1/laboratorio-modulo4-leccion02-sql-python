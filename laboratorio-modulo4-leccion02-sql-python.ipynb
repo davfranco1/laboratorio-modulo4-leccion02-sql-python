{
 "cells": [
  {
   "cell_type": "code",
   "execution_count": 290,
   "metadata": {},
   "outputs": [],
   "source": [
    "import psycopg2\n",
    "from psycopg2 import OperationalError, errorcodes, errors\n",
    "\n",
    "\n",
    "# Trabajar con DataFrames\n",
    "# -----------------------------------------------------------------------\n",
    "import pandas as pd"
   ]
  },
  {
   "cell_type": "markdown",
   "metadata": {},
   "source": [
    "## Conexión"
   ]
  },
  {
   "cell_type": "code",
   "execution_count": 287,
   "metadata": {},
   "outputs": [],
   "source": [
    "try:\n",
    "    conexion = psycopg2.connect(\n",
    "        database = \"Ubicaciones\",\n",
    "        user = \"my_user\",\n",
    "        password = \"admin\",\n",
    "        host = \"localhost\",\n",
    "        port = \"5432\"\n",
    "    )\n",
    "except OperationalError as e:\n",
    "    if e.pgcode == errorcodes.INVALID_PASSWORD:\n",
    "        print(\"Contraseña es errónea\")\n",
    "    elif e.pgcode == errorcodes.CONNECTION_EXCEPTION:\n",
    "        print(\"Error de conexión\")\n",
    "    else:\n",
    "        print(f\"Ocurrió el error {e}\") \n",
    "\n",
    "cursor = conexion.cursor()"
   ]
  },
  {
   "cell_type": "markdown",
   "metadata": {},
   "source": [
    "## Tratamiento de datos"
   ]
  },
  {
   "cell_type": "code",
   "execution_count": 91,
   "metadata": {},
   "outputs": [],
   "source": [
    "df_fsq = pd.read_csv(\"datos/api_foursquare.csv\", index_col = 0)\n",
    "df_municipios = pd.read_csv(\"datos/municipios.csv\", index_col = 0)\n",
    "df_aemet = pd.read_csv(\"datos/df_aemet_final.csv\", index_col = 0)"
   ]
  },
  {
   "cell_type": "code",
   "execution_count": 255,
   "metadata": {},
   "outputs": [],
   "source": [
    "df_aemet = pd.read_csv(\"datos/df_aemet_final.csv\", index_col = 0)"
   ]
  },
  {
   "cell_type": "code",
   "execution_count": 256,
   "metadata": {},
   "outputs": [
    {
     "data": {
      "text/html": [
       "<div>\n",
       "<style scoped>\n",
       "    .dataframe tbody tr th:only-of-type {\n",
       "        vertical-align: middle;\n",
       "    }\n",
       "\n",
       "    .dataframe tbody tr th {\n",
       "        vertical-align: top;\n",
       "    }\n",
       "\n",
       "    .dataframe thead th {\n",
       "        text-align: right;\n",
       "    }\n",
       "</style>\n",
       "<table border=\"1\" class=\"dataframe\">\n",
       "  <thead>\n",
       "    <tr style=\"text-align: right;\">\n",
       "      <th></th>\n",
       "      <th>fecha</th>\n",
       "      <th>cielo</th>\n",
       "      <th>temp._(°c)</th>\n",
       "      <th>sen._térmica_(°c)</th>\n",
       "      <th>racha_máx._(km/h)</th>\n",
       "      <th>precipitación_(mm)</th>\n",
       "      <th>nieve_(mm)</th>\n",
       "      <th>humedad_relativa_(%)</th>\n",
       "      <th>prob._precip.__(%)</th>\n",
       "      <th>prob._de_nieve_(%)</th>\n",
       "      <th>prob._de_tormenta_(%)</th>\n",
       "      <th>avisos</th>\n",
       "      <th>dirección_viento</th>\n",
       "      <th>velocidad_del_viento</th>\n",
       "      <th>localizacion_id</th>\n",
       "    </tr>\n",
       "  </thead>\n",
       "  <tbody>\n",
       "    <tr>\n",
       "      <th>0</th>\n",
       "      <td>2024-08-29 12:00:00</td>\n",
       "      <td>Nubes altas</td>\n",
       "      <td>21</td>\n",
       "      <td>21</td>\n",
       "      <td>25.0</td>\n",
       "      <td>0.0</td>\n",
       "      <td>0</td>\n",
       "      <td>69</td>\n",
       "      <td>95</td>\n",
       "      <td>0</td>\n",
       "      <td>75</td>\n",
       "      <td>Riesgo</td>\n",
       "      <td>S</td>\n",
       "      <td>7</td>\n",
       "      <td>acebeda-la-id28001</td>\n",
       "    </tr>\n",
       "  </tbody>\n",
       "</table>\n",
       "</div>"
      ],
      "text/plain": [
       "                 fecha        cielo  temp._(°c)  sen._térmica_(°c)  \\\n",
       "0  2024-08-29 12:00:00  Nubes altas          21                 21   \n",
       "\n",
       "   racha_máx._(km/h)  precipitación_(mm)  nieve_(mm)  humedad_relativa_(%)  \\\n",
       "0               25.0                 0.0           0                    69   \n",
       "\n",
       "  prob._precip.__(%)  prob._de_nieve_(%)  prob._de_tormenta_(%)  avisos  \\\n",
       "0                 95                   0                     75  Riesgo   \n",
       "\n",
       "  dirección_viento  velocidad_del_viento     localizacion_id  \n",
       "0                S                     7  acebeda-la-id28001  "
      ]
     },
     "execution_count": 256,
     "metadata": {},
     "output_type": "execute_result"
    }
   ],
   "source": [
    "df_aemet.reset_index(inplace=True)\n",
    "df_aemet.head(1)"
   ]
  },
  {
   "cell_type": "code",
   "execution_count": 257,
   "metadata": {},
   "outputs": [],
   "source": [
    "df_aemet[['localizacion', 'id']] = df_aemet['localizacion_id'].str.split('-id', expand=True)\n",
    "df_aemet[['fecha', 'hora']] = df_aemet['fecha'].str.split(' ', expand=True)"
   ]
  },
  {
   "cell_type": "code",
   "execution_count": 258,
   "metadata": {},
   "outputs": [
    {
     "data": {
      "text/html": [
       "<div>\n",
       "<style scoped>\n",
       "    .dataframe tbody tr th:only-of-type {\n",
       "        vertical-align: middle;\n",
       "    }\n",
       "\n",
       "    .dataframe tbody tr th {\n",
       "        vertical-align: top;\n",
       "    }\n",
       "\n",
       "    .dataframe thead th {\n",
       "        text-align: right;\n",
       "    }\n",
       "</style>\n",
       "<table border=\"1\" class=\"dataframe\">\n",
       "  <thead>\n",
       "    <tr style=\"text-align: right;\">\n",
       "      <th></th>\n",
       "      <th>fecha</th>\n",
       "      <th>cielo</th>\n",
       "      <th>temp._(°c)</th>\n",
       "      <th>sen._térmica_(°c)</th>\n",
       "      <th>racha_máx._(km/h)</th>\n",
       "      <th>precipitación_(mm)</th>\n",
       "      <th>nieve_(mm)</th>\n",
       "      <th>humedad_relativa_(%)</th>\n",
       "      <th>prob._de_nieve_(%)</th>\n",
       "      <th>prob._de_tormenta_(%)</th>\n",
       "      <th>dirección_viento</th>\n",
       "      <th>velocidad_del_viento</th>\n",
       "      <th>municipio_id</th>\n",
       "      <th>hora</th>\n",
       "    </tr>\n",
       "  </thead>\n",
       "  <tbody>\n",
       "    <tr>\n",
       "      <th>0</th>\n",
       "      <td>2024-08-29</td>\n",
       "      <td>Nubes altas</td>\n",
       "      <td>21</td>\n",
       "      <td>21</td>\n",
       "      <td>25.0</td>\n",
       "      <td>0.0</td>\n",
       "      <td>0</td>\n",
       "      <td>69</td>\n",
       "      <td>0</td>\n",
       "      <td>75</td>\n",
       "      <td>S</td>\n",
       "      <td>7</td>\n",
       "      <td>acebeda-la</td>\n",
       "      <td>12:00:00</td>\n",
       "    </tr>\n",
       "  </tbody>\n",
       "</table>\n",
       "</div>"
      ],
      "text/plain": [
       "        fecha        cielo  temp._(°c)  sen._térmica_(°c)  racha_máx._(km/h)  \\\n",
       "0  2024-08-29  Nubes altas          21                 21               25.0   \n",
       "\n",
       "   precipitación_(mm)  nieve_(mm)  humedad_relativa_(%)  prob._de_nieve_(%)  \\\n",
       "0                 0.0           0                    69                   0   \n",
       "\n",
       "   prob._de_tormenta_(%) dirección_viento  velocidad_del_viento municipio_id  \\\n",
       "0                     75                S                     7   acebeda-la   \n",
       "\n",
       "       hora  \n",
       "0  12:00:00  "
      ]
     },
     "execution_count": 258,
     "metadata": {},
     "output_type": "execute_result"
    }
   ],
   "source": [
    "df_aemet = df_aemet.drop(columns = \"localizacion_id\") #porque ya la había separado\n",
    "df_aemet = df_aemet.drop(columns = \"avisos\") #porque no me aporta valor, no sé porqué es el riesgo\n",
    "df_aemet = df_aemet.drop(columns = \"prob._precip.__(%)\") #me quedo con los mm precipitación, porque hay probabilidades del 100% con mm 0.\n",
    "df_aemet = df_aemet.drop(columns = \"id\") #porque es un id que no puedo relacionar con otras tablas o me aporta info adicional\n",
    "df_aemet.rename(columns={'localizacion': 'municipio_id'}, inplace=True)\n",
    "df_aemet.head(1)"
   ]
  },
  {
   "cell_type": "code",
   "execution_count": null,
   "metadata": {},
   "outputs": [],
   "source": [
    "df_fsq.rename(columns={'municipio': 'municipio_id'}, inplace=True)\n",
    "df_fsq = df_aemet.drop(columns = \"fsq_id\") #lo quito porque ya está contenido detrás de la tercera barra del link"
   ]
  },
  {
   "cell_type": "code",
   "execution_count": 193,
   "metadata": {},
   "outputs": [],
   "source": [
    "df_fsq['latitude'] = df_fsq['latitude'].astype(float)\n",
    "df_fsq['longitude'] = df_fsq['longitude'].astype(float)"
   ]
  },
  {
   "cell_type": "code",
   "execution_count": 194,
   "metadata": {},
   "outputs": [
    {
     "data": {
      "text/html": [
       "<div>\n",
       "<style scoped>\n",
       "    .dataframe tbody tr th:only-of-type {\n",
       "        vertical-align: middle;\n",
       "    }\n",
       "\n",
       "    .dataframe tbody tr th {\n",
       "        vertical-align: top;\n",
       "    }\n",
       "\n",
       "    .dataframe thead th {\n",
       "        text-align: right;\n",
       "    }\n",
       "</style>\n",
       "<table border=\"1\" class=\"dataframe\">\n",
       "  <thead>\n",
       "    <tr style=\"text-align: right;\">\n",
       "      <th></th>\n",
       "      <th>municipio_id</th>\n",
       "      <th>category</th>\n",
       "      <th>closed_bucket</th>\n",
       "      <th>distance</th>\n",
       "      <th>link</th>\n",
       "      <th>name</th>\n",
       "      <th>address</th>\n",
       "      <th>latitude</th>\n",
       "      <th>longitude</th>\n",
       "    </tr>\n",
       "  </thead>\n",
       "  <tbody>\n",
       "    <tr>\n",
       "      <th>0</th>\n",
       "      <td>ajalvir</td>\n",
       "      <td>Park</td>\n",
       "      <td>LikelyOpen</td>\n",
       "      <td>563.0</td>\n",
       "      <td>/v3/places/4d3c6c5b84d46ea87dddfd5c</td>\n",
       "      <td>Diverjungla</td>\n",
       "      <td>Calle Segovia, 20 (Pol. Ind. Donada), 28864 Aj...</td>\n",
       "      <td>40.529921</td>\n",
       "      <td>-3.484341</td>\n",
       "    </tr>\n",
       "  </tbody>\n",
       "</table>\n",
       "</div>"
      ],
      "text/plain": [
       "  municipio_id category closed_bucket  distance  \\\n",
       "0      ajalvir     Park    LikelyOpen     563.0   \n",
       "\n",
       "                                  link         name  \\\n",
       "0  /v3/places/4d3c6c5b84d46ea87dddfd5c  Diverjungla   \n",
       "\n",
       "                                             address   latitude  longitude  \n",
       "0  Calle Segovia, 20 (Pol. Ind. Donada), 28864 Aj...  40.529921  -3.484341  "
      ]
     },
     "execution_count": 194,
     "metadata": {},
     "output_type": "execute_result"
    }
   ],
   "source": [
    "df_fsq.head(1)"
   ]
  },
  {
   "cell_type": "code",
   "execution_count": 70,
   "metadata": {},
   "outputs": [
    {
     "data": {
      "text/html": [
       "<div>\n",
       "<style scoped>\n",
       "    .dataframe tbody tr th:only-of-type {\n",
       "        vertical-align: middle;\n",
       "    }\n",
       "\n",
       "    .dataframe tbody tr th {\n",
       "        vertical-align: top;\n",
       "    }\n",
       "\n",
       "    .dataframe thead th {\n",
       "        text-align: right;\n",
       "    }\n",
       "</style>\n",
       "<table border=\"1\" class=\"dataframe\">\n",
       "  <thead>\n",
       "    <tr style=\"text-align: right;\">\n",
       "      <th></th>\n",
       "      <th>index</th>\n",
       "      <th>0</th>\n",
       "      <th>1</th>\n",
       "      <th>2</th>\n",
       "    </tr>\n",
       "  </thead>\n",
       "  <tbody>\n",
       "    <tr>\n",
       "      <th>0</th>\n",
       "      <td>acebeda-la</td>\n",
       "      <td>41.0869583</td>\n",
       "      <td>-3.624399</td>\n",
       "      <td>La Acebeda</td>\n",
       "    </tr>\n",
       "    <tr>\n",
       "      <th>1</th>\n",
       "      <td>ajalvir</td>\n",
       "      <td>40.5342302</td>\n",
       "      <td>-3.4807818</td>\n",
       "      <td>Ajalvir</td>\n",
       "    </tr>\n",
       "    <tr>\n",
       "      <th>2</th>\n",
       "      <td>alameda-del-valle</td>\n",
       "      <td>40.9177178</td>\n",
       "      <td>-3.8438216</td>\n",
       "      <td>Alameda del Valle</td>\n",
       "    </tr>\n",
       "    <tr>\n",
       "      <th>3</th>\n",
       "      <td>alamo-el</td>\n",
       "      <td>40.2307296</td>\n",
       "      <td>-3.9905893</td>\n",
       "      <td>El Álamo</td>\n",
       "    </tr>\n",
       "    <tr>\n",
       "      <th>4</th>\n",
       "      <td>alcala-de-henares</td>\n",
       "      <td>40.4818396</td>\n",
       "      <td>-3.3644973</td>\n",
       "      <td>Alcalá de Henares</td>\n",
       "    </tr>\n",
       "    <tr>\n",
       "      <th>...</th>\n",
       "      <td>...</td>\n",
       "      <td>...</td>\n",
       "      <td>...</td>\n",
       "      <td>...</td>\n",
       "    </tr>\n",
       "    <tr>\n",
       "      <th>171</th>\n",
       "      <td>villar-del-olmo</td>\n",
       "      <td>40.3364465</td>\n",
       "      <td>-3.2355624</td>\n",
       "      <td>Villar del Olmo</td>\n",
       "    </tr>\n",
       "    <tr>\n",
       "      <th>172</th>\n",
       "      <td>villarejo-de-salvanes</td>\n",
       "      <td>40.1683582</td>\n",
       "      <td>-3.2738764</td>\n",
       "      <td>Villarejo de Salvanés</td>\n",
       "    </tr>\n",
       "    <tr>\n",
       "      <th>173</th>\n",
       "      <td>villaviciosa-de-odon</td>\n",
       "      <td>40.3573787</td>\n",
       "      <td>-3.9002334</td>\n",
       "      <td>Villaviciosa de Odón</td>\n",
       "    </tr>\n",
       "    <tr>\n",
       "      <th>174</th>\n",
       "      <td>villavieja-del-lozoya</td>\n",
       "      <td>41.0063622</td>\n",
       "      <td>-3.6716291</td>\n",
       "      <td>Villavieja del Lozoya</td>\n",
       "    </tr>\n",
       "    <tr>\n",
       "      <th>175</th>\n",
       "      <td>zarzalejo</td>\n",
       "      <td>40.5483016</td>\n",
       "      <td>-4.1815899</td>\n",
       "      <td>Zarzalejo</td>\n",
       "    </tr>\n",
       "  </tbody>\n",
       "</table>\n",
       "<p>176 rows × 4 columns</p>\n",
       "</div>"
      ],
      "text/plain": [
       "                     index           0           1                      2\n",
       "0               acebeda-la  41.0869583   -3.624399             La Acebeda\n",
       "1                  ajalvir  40.5342302  -3.4807818                Ajalvir\n",
       "2        alameda-del-valle  40.9177178  -3.8438216      Alameda del Valle\n",
       "3                 alamo-el  40.2307296  -3.9905893               El Álamo\n",
       "4        alcala-de-henares  40.4818396  -3.3644973      Alcalá de Henares\n",
       "..                     ...         ...         ...                    ...\n",
       "171        villar-del-olmo  40.3364465  -3.2355624        Villar del Olmo\n",
       "172  villarejo-de-salvanes  40.1683582  -3.2738764  Villarejo de Salvanés\n",
       "173   villaviciosa-de-odon  40.3573787  -3.9002334   Villaviciosa de Odón\n",
       "174  villavieja-del-lozoya  41.0063622  -3.6716291  Villavieja del Lozoya\n",
       "175              zarzalejo  40.5483016  -4.1815899              Zarzalejo\n",
       "\n",
       "[176 rows x 4 columns]"
      ]
     },
     "execution_count": 70,
     "metadata": {},
     "output_type": "execute_result"
    }
   ],
   "source": [
    "df_municipios = df_municipios.T\n",
    "df_municipios.reset_index(inplace=True)\n",
    "df_municipios"
   ]
  },
  {
   "cell_type": "code",
   "execution_count": 76,
   "metadata": {},
   "outputs": [],
   "source": [
    "df_municipios.rename(columns={'index': 'municipio_id', 0: 'latitud municipio', 1:'longitud municipio',2:'nombre limpio municipio'}, inplace=True)"
   ]
  },
  {
   "cell_type": "code",
   "execution_count": 108,
   "metadata": {},
   "outputs": [
    {
     "data": {
      "text/html": [
       "<div>\n",
       "<style scoped>\n",
       "    .dataframe tbody tr th:only-of-type {\n",
       "        vertical-align: middle;\n",
       "    }\n",
       "\n",
       "    .dataframe tbody tr th {\n",
       "        vertical-align: top;\n",
       "    }\n",
       "\n",
       "    .dataframe thead th {\n",
       "        text-align: right;\n",
       "    }\n",
       "</style>\n",
       "<table border=\"1\" class=\"dataframe\">\n",
       "  <thead>\n",
       "    <tr style=\"text-align: right;\">\n",
       "      <th></th>\n",
       "      <th>municipio_id</th>\n",
       "      <th>latitud municipio</th>\n",
       "      <th>longitud municipio</th>\n",
       "      <th>nombre limpio municipio</th>\n",
       "    </tr>\n",
       "  </thead>\n",
       "  <tbody>\n",
       "    <tr>\n",
       "      <th>0</th>\n",
       "      <td>acebeda-la</td>\n",
       "      <td>41.0869583</td>\n",
       "      <td>-3.624399</td>\n",
       "      <td>La Acebeda</td>\n",
       "    </tr>\n",
       "    <tr>\n",
       "      <th>1</th>\n",
       "      <td>ajalvir</td>\n",
       "      <td>40.5342302</td>\n",
       "      <td>-3.4807818</td>\n",
       "      <td>Ajalvir</td>\n",
       "    </tr>\n",
       "    <tr>\n",
       "      <th>2</th>\n",
       "      <td>alameda-del-valle</td>\n",
       "      <td>40.9177178</td>\n",
       "      <td>-3.8438216</td>\n",
       "      <td>Alameda del Valle</td>\n",
       "    </tr>\n",
       "    <tr>\n",
       "      <th>3</th>\n",
       "      <td>alamo-el</td>\n",
       "      <td>40.2307296</td>\n",
       "      <td>-3.9905893</td>\n",
       "      <td>El Álamo</td>\n",
       "    </tr>\n",
       "    <tr>\n",
       "      <th>4</th>\n",
       "      <td>alcala-de-henares</td>\n",
       "      <td>40.4818396</td>\n",
       "      <td>-3.3644973</td>\n",
       "      <td>Alcalá de Henares</td>\n",
       "    </tr>\n",
       "    <tr>\n",
       "      <th>...</th>\n",
       "      <td>...</td>\n",
       "      <td>...</td>\n",
       "      <td>...</td>\n",
       "      <td>...</td>\n",
       "    </tr>\n",
       "    <tr>\n",
       "      <th>171</th>\n",
       "      <td>villar-del-olmo</td>\n",
       "      <td>40.3364465</td>\n",
       "      <td>-3.2355624</td>\n",
       "      <td>Villar del Olmo</td>\n",
       "    </tr>\n",
       "    <tr>\n",
       "      <th>172</th>\n",
       "      <td>villarejo-de-salvanes</td>\n",
       "      <td>40.1683582</td>\n",
       "      <td>-3.2738764</td>\n",
       "      <td>Villarejo de Salvanés</td>\n",
       "    </tr>\n",
       "    <tr>\n",
       "      <th>173</th>\n",
       "      <td>villaviciosa-de-odon</td>\n",
       "      <td>40.3573787</td>\n",
       "      <td>-3.9002334</td>\n",
       "      <td>Villaviciosa de Odón</td>\n",
       "    </tr>\n",
       "    <tr>\n",
       "      <th>174</th>\n",
       "      <td>villavieja-del-lozoya</td>\n",
       "      <td>41.0063622</td>\n",
       "      <td>-3.6716291</td>\n",
       "      <td>Villavieja del Lozoya</td>\n",
       "    </tr>\n",
       "    <tr>\n",
       "      <th>175</th>\n",
       "      <td>zarzalejo</td>\n",
       "      <td>40.5483016</td>\n",
       "      <td>-4.1815899</td>\n",
       "      <td>Zarzalejo</td>\n",
       "    </tr>\n",
       "  </tbody>\n",
       "</table>\n",
       "<p>176 rows × 4 columns</p>\n",
       "</div>"
      ],
      "text/plain": [
       "              municipio_id latitud municipio longitud municipio  \\\n",
       "0               acebeda-la        41.0869583          -3.624399   \n",
       "1                  ajalvir        40.5342302         -3.4807818   \n",
       "2        alameda-del-valle        40.9177178         -3.8438216   \n",
       "3                 alamo-el        40.2307296         -3.9905893   \n",
       "4        alcala-de-henares        40.4818396         -3.3644973   \n",
       "..                     ...               ...                ...   \n",
       "171        villar-del-olmo        40.3364465         -3.2355624   \n",
       "172  villarejo-de-salvanes        40.1683582         -3.2738764   \n",
       "173   villaviciosa-de-odon        40.3573787         -3.9002334   \n",
       "174  villavieja-del-lozoya        41.0063622         -3.6716291   \n",
       "175              zarzalejo        40.5483016         -4.1815899   \n",
       "\n",
       "    nombre limpio municipio  \n",
       "0                La Acebeda  \n",
       "1                   Ajalvir  \n",
       "2         Alameda del Valle  \n",
       "3                  El Álamo  \n",
       "4         Alcalá de Henares  \n",
       "..                      ...  \n",
       "171         Villar del Olmo  \n",
       "172   Villarejo de Salvanés  \n",
       "173    Villaviciosa de Odón  \n",
       "174   Villavieja del Lozoya  \n",
       "175               Zarzalejo  \n",
       "\n",
       "[176 rows x 4 columns]"
      ]
     },
     "execution_count": 108,
     "metadata": {},
     "output_type": "execute_result"
    }
   ],
   "source": [
    "df_municipios"
   ]
  },
  {
   "cell_type": "code",
   "execution_count": 188,
   "metadata": {},
   "outputs": [],
   "source": [
    "df_municipios['latitud municipio'] = df_municipios['latitud municipio'].astype(float)\n",
    "df_municipios['longitud municipio'] = df_municipios['longitud municipio'].astype(float)"
   ]
  },
  {
   "cell_type": "code",
   "execution_count": 189,
   "metadata": {},
   "outputs": [
    {
     "data": {
      "text/html": [
       "<div>\n",
       "<style scoped>\n",
       "    .dataframe tbody tr th:only-of-type {\n",
       "        vertical-align: middle;\n",
       "    }\n",
       "\n",
       "    .dataframe tbody tr th {\n",
       "        vertical-align: top;\n",
       "    }\n",
       "\n",
       "    .dataframe thead th {\n",
       "        text-align: right;\n",
       "    }\n",
       "</style>\n",
       "<table border=\"1\" class=\"dataframe\">\n",
       "  <thead>\n",
       "    <tr style=\"text-align: right;\">\n",
       "      <th></th>\n",
       "      <th>municipio_id</th>\n",
       "      <th>latitud municipio</th>\n",
       "      <th>longitud municipio</th>\n",
       "      <th>nombre limpio municipio</th>\n",
       "    </tr>\n",
       "  </thead>\n",
       "  <tbody>\n",
       "    <tr>\n",
       "      <th>0</th>\n",
       "      <td>acebeda-la</td>\n",
       "      <td>-3.624399</td>\n",
       "      <td>-3.624399</td>\n",
       "      <td>La Acebeda</td>\n",
       "    </tr>\n",
       "    <tr>\n",
       "      <th>1</th>\n",
       "      <td>ajalvir</td>\n",
       "      <td>-3.480782</td>\n",
       "      <td>-3.480782</td>\n",
       "      <td>Ajalvir</td>\n",
       "    </tr>\n",
       "    <tr>\n",
       "      <th>2</th>\n",
       "      <td>alameda-del-valle</td>\n",
       "      <td>-3.843822</td>\n",
       "      <td>-3.843822</td>\n",
       "      <td>Alameda del Valle</td>\n",
       "    </tr>\n",
       "    <tr>\n",
       "      <th>3</th>\n",
       "      <td>alamo-el</td>\n",
       "      <td>-3.990589</td>\n",
       "      <td>-3.990589</td>\n",
       "      <td>El Álamo</td>\n",
       "    </tr>\n",
       "    <tr>\n",
       "      <th>4</th>\n",
       "      <td>alcala-de-henares</td>\n",
       "      <td>-3.364497</td>\n",
       "      <td>-3.364497</td>\n",
       "      <td>Alcalá de Henares</td>\n",
       "    </tr>\n",
       "    <tr>\n",
       "      <th>...</th>\n",
       "      <td>...</td>\n",
       "      <td>...</td>\n",
       "      <td>...</td>\n",
       "      <td>...</td>\n",
       "    </tr>\n",
       "    <tr>\n",
       "      <th>171</th>\n",
       "      <td>villar-del-olmo</td>\n",
       "      <td>-3.235562</td>\n",
       "      <td>-3.235562</td>\n",
       "      <td>Villar del Olmo</td>\n",
       "    </tr>\n",
       "    <tr>\n",
       "      <th>172</th>\n",
       "      <td>villarejo-de-salvanes</td>\n",
       "      <td>-3.273876</td>\n",
       "      <td>-3.273876</td>\n",
       "      <td>Villarejo de Salvanés</td>\n",
       "    </tr>\n",
       "    <tr>\n",
       "      <th>173</th>\n",
       "      <td>villaviciosa-de-odon</td>\n",
       "      <td>-3.900233</td>\n",
       "      <td>-3.900233</td>\n",
       "      <td>Villaviciosa de Odón</td>\n",
       "    </tr>\n",
       "    <tr>\n",
       "      <th>174</th>\n",
       "      <td>villavieja-del-lozoya</td>\n",
       "      <td>-3.671629</td>\n",
       "      <td>-3.671629</td>\n",
       "      <td>Villavieja del Lozoya</td>\n",
       "    </tr>\n",
       "    <tr>\n",
       "      <th>175</th>\n",
       "      <td>zarzalejo</td>\n",
       "      <td>-4.181590</td>\n",
       "      <td>-4.181590</td>\n",
       "      <td>Zarzalejo</td>\n",
       "    </tr>\n",
       "  </tbody>\n",
       "</table>\n",
       "<p>176 rows × 4 columns</p>\n",
       "</div>"
      ],
      "text/plain": [
       "              municipio_id  latitud municipio  longitud municipio  \\\n",
       "0               acebeda-la          -3.624399           -3.624399   \n",
       "1                  ajalvir          -3.480782           -3.480782   \n",
       "2        alameda-del-valle          -3.843822           -3.843822   \n",
       "3                 alamo-el          -3.990589           -3.990589   \n",
       "4        alcala-de-henares          -3.364497           -3.364497   \n",
       "..                     ...                ...                 ...   \n",
       "171        villar-del-olmo          -3.235562           -3.235562   \n",
       "172  villarejo-de-salvanes          -3.273876           -3.273876   \n",
       "173   villaviciosa-de-odon          -3.900233           -3.900233   \n",
       "174  villavieja-del-lozoya          -3.671629           -3.671629   \n",
       "175              zarzalejo          -4.181590           -4.181590   \n",
       "\n",
       "    nombre limpio municipio  \n",
       "0                La Acebeda  \n",
       "1                   Ajalvir  \n",
       "2         Alameda del Valle  \n",
       "3                  El Álamo  \n",
       "4         Alcalá de Henares  \n",
       "..                      ...  \n",
       "171         Villar del Olmo  \n",
       "172   Villarejo de Salvanés  \n",
       "173    Villaviciosa de Odón  \n",
       "174   Villavieja del Lozoya  \n",
       "175               Zarzalejo  \n",
       "\n",
       "[176 rows x 4 columns]"
      ]
     },
     "execution_count": 189,
     "metadata": {},
     "output_type": "execute_result"
    }
   ],
   "source": [
    "df_municipios"
   ]
  },
  {
   "cell_type": "code",
   "execution_count": 103,
   "metadata": {},
   "outputs": [
    {
     "name": "stdout",
     "output_type": "stream",
     "text": [
      "179\n",
      "96\n",
      "176\n"
     ]
    }
   ],
   "source": [
    "print(df_aemet['localizacion'].nunique())\n",
    "print(df_fsq['municipio'].nunique())\n",
    "print(df_municipios['municipio fsq'].nunique())"
   ]
  },
  {
   "cell_type": "code",
   "execution_count": 234,
   "metadata": {},
   "outputs": [],
   "source": [
    "set_aemet = set(df_aemet['municipio_id'])\n",
    "set_municipios = set(df_municipios['municipio_id'])"
   ]
  },
  {
   "cell_type": "code",
   "execution_count": 235,
   "metadata": {},
   "outputs": [],
   "source": [
    "diferencia = set_aemet-set_municipios"
   ]
  },
  {
   "cell_type": "code",
   "execution_count": 237,
   "metadata": {},
   "outputs": [
    {
     "data": {
      "text/plain": [
       "{'cabrera-la', 'leganes', 'molinos-los'}"
      ]
     },
     "execution_count": 237,
     "metadata": {},
     "output_type": "execute_result"
    }
   ],
   "source": [
    "diferencia"
   ]
  },
  {
   "cell_type": "code",
   "execution_count": 272,
   "metadata": {},
   "outputs": [],
   "source": [
    "df_aemet = df_aemet.loc[df_aemet['municipio_id'] != 'cabrera-la']\n",
    "df_aemet = df_aemet.loc[df_aemet['municipio_id'] != 'leganes']\n",
    "df_aemet = df_aemet.loc[df_aemet['municipio_id'] != 'molinos-los']"
   ]
  },
  {
   "cell_type": "code",
   "execution_count": 273,
   "metadata": {},
   "outputs": [
    {
     "name": "stdout",
     "output_type": "stream",
     "text": [
      "176\n",
      "96\n",
      "176\n"
     ]
    }
   ],
   "source": [
    "print(df_aemet['municipio_id'].nunique())\n",
    "print(df_fsq['municipio_id'].nunique())\n",
    "print(df_municipios['municipio_id'].nunique())"
   ]
  },
  {
   "cell_type": "code",
   "execution_count": 128,
   "metadata": {},
   "outputs": [],
   "source": [
    "nuevo_df_cielo = df_aemet[['municipio_id', 'fecha', 'cielo']]"
   ]
  },
  {
   "cell_type": "code",
   "execution_count": 129,
   "metadata": {},
   "outputs": [
    {
     "data": {
      "text/html": [
       "<div>\n",
       "<style scoped>\n",
       "    .dataframe tbody tr th:only-of-type {\n",
       "        vertical-align: middle;\n",
       "    }\n",
       "\n",
       "    .dataframe tbody tr th {\n",
       "        vertical-align: top;\n",
       "    }\n",
       "\n",
       "    .dataframe thead th {\n",
       "        text-align: right;\n",
       "    }\n",
       "</style>\n",
       "<table border=\"1\" class=\"dataframe\">\n",
       "  <thead>\n",
       "    <tr style=\"text-align: right;\">\n",
       "      <th></th>\n",
       "      <th>municipio_id</th>\n",
       "      <th>fecha</th>\n",
       "      <th>cielo</th>\n",
       "    </tr>\n",
       "  </thead>\n",
       "  <tbody>\n",
       "    <tr>\n",
       "      <th>0</th>\n",
       "      <td>acebeda-la</td>\n",
       "      <td>2024-08-29 12:00:00</td>\n",
       "      <td>Nubes altas</td>\n",
       "    </tr>\n",
       "    <tr>\n",
       "      <th>1</th>\n",
       "      <td>acebeda-la</td>\n",
       "      <td>2024-08-29 13:00:00</td>\n",
       "      <td>Nubes altas</td>\n",
       "    </tr>\n",
       "    <tr>\n",
       "      <th>2</th>\n",
       "      <td>acebeda-la</td>\n",
       "      <td>2024-08-29 14:00:00</td>\n",
       "      <td>Muy nuboso</td>\n",
       "    </tr>\n",
       "    <tr>\n",
       "      <th>3</th>\n",
       "      <td>acebeda-la</td>\n",
       "      <td>2024-08-29 15:00:00</td>\n",
       "      <td>Nubes altas</td>\n",
       "    </tr>\n",
       "    <tr>\n",
       "      <th>4</th>\n",
       "      <td>acebeda-la</td>\n",
       "      <td>2024-08-29 16:00:00</td>\n",
       "      <td>Nubes altas</td>\n",
       "    </tr>\n",
       "    <tr>\n",
       "      <th>...</th>\n",
       "      <td>...</td>\n",
       "      <td>...</td>\n",
       "      <td>...</td>\n",
       "    </tr>\n",
       "    <tr>\n",
       "      <th>7880</th>\n",
       "      <td>zarzalejo</td>\n",
       "      <td>2024-08-31 03:00:00</td>\n",
       "      <td>Poco nuboso</td>\n",
       "    </tr>\n",
       "    <tr>\n",
       "      <th>7881</th>\n",
       "      <td>zarzalejo</td>\n",
       "      <td>2024-08-31 04:00:00</td>\n",
       "      <td>Cielo despejado</td>\n",
       "    </tr>\n",
       "    <tr>\n",
       "      <th>7882</th>\n",
       "      <td>zarzalejo</td>\n",
       "      <td>2024-08-31 05:00:00</td>\n",
       "      <td>Cielo despejado</td>\n",
       "    </tr>\n",
       "    <tr>\n",
       "      <th>7883</th>\n",
       "      <td>zarzalejo</td>\n",
       "      <td>2024-08-31 06:00:00</td>\n",
       "      <td>Poco nuboso</td>\n",
       "    </tr>\n",
       "    <tr>\n",
       "      <th>7884</th>\n",
       "      <td>zarzalejo</td>\n",
       "      <td>2024-08-31 07:00:00</td>\n",
       "      <td>Nubes altas</td>\n",
       "    </tr>\n",
       "  </tbody>\n",
       "</table>\n",
       "<p>7885 rows × 3 columns</p>\n",
       "</div>"
      ],
      "text/plain": [
       "     municipio_id               fecha            cielo\n",
       "0      acebeda-la 2024-08-29 12:00:00      Nubes altas\n",
       "1      acebeda-la 2024-08-29 13:00:00      Nubes altas\n",
       "2      acebeda-la 2024-08-29 14:00:00       Muy nuboso\n",
       "3      acebeda-la 2024-08-29 15:00:00      Nubes altas\n",
       "4      acebeda-la 2024-08-29 16:00:00      Nubes altas\n",
       "...           ...                 ...              ...\n",
       "7880    zarzalejo 2024-08-31 03:00:00      Poco nuboso\n",
       "7881    zarzalejo 2024-08-31 04:00:00  Cielo despejado\n",
       "7882    zarzalejo 2024-08-31 05:00:00  Cielo despejado\n",
       "7883    zarzalejo 2024-08-31 06:00:00      Poco nuboso\n",
       "7884    zarzalejo 2024-08-31 07:00:00      Nubes altas\n",
       "\n",
       "[7885 rows x 3 columns]"
      ]
     },
     "execution_count": 129,
     "metadata": {},
     "output_type": "execute_result"
    }
   ],
   "source": [
    "nuevo_df_cielo"
   ]
  },
  {
   "cell_type": "code",
   "execution_count": 115,
   "metadata": {},
   "outputs": [
    {
     "data": {
      "text/plain": [
       "cielo\n",
       "Poco nuboso                                1442\n",
       "Cubierto                                   1317\n",
       "Nubes altas                                1210\n",
       "Muy nuboso                                  929\n",
       "Cielo despejado                             862\n",
       "Intervalos nubosos con lluvia escasa        733\n",
       "Nuboso                                      529\n",
       "Cubierto con lluvia escasa                  230\n",
       "Muy nuboso con lluvia escasa                135\n",
       "Cubierto con tormenta y lluvia escasa       126\n",
       "Intervalos nubosos                           89\n",
       "Cubierto con lluvia                          88\n",
       "Nuboso con lluvia escasa                     67\n",
       "Muy nuboso con tormenta y lluvia escasa      44\n",
       "Nuboso con tormenta y lluvia escasa          22\n",
       "Intervalos nubosos con lluvia                19\n",
       "Cubierto con tormenta                        12\n",
       "Bruma                                        10\n",
       "Muy nuboso con lluvia                         9\n",
       "Niebla                                        7\n",
       "Muy nuboso con tormenta                       3\n",
       "Nuboso con lluvia                             1\n",
       "Nuboso con tormenta                           1\n",
       "Name: count, dtype: int64"
      ]
     },
     "execution_count": 115,
     "metadata": {},
     "output_type": "execute_result"
    }
   ],
   "source": [
    "df_aemet['cielo'].value_counts()"
   ]
  },
  {
   "cell_type": "code",
   "execution_count": 121,
   "metadata": {},
   "outputs": [
    {
     "data": {
      "text/plain": [
       "category\n",
       "Park                                                738\n",
       "Monument                                            126\n",
       "TV Station                                           24\n",
       "Bridge                                                6\n",
       "Castle                                                3\n",
       "Film Studio                                           3\n",
       "Fountain                                              3\n",
       "Beach                                                 2\n",
       "Palace                                                1\n",
       "Print, TV, Radio and Outdoor Advertising Service      1\n",
       "Name: count, dtype: int64"
      ]
     },
     "execution_count": 121,
     "metadata": {},
     "output_type": "execute_result"
    }
   ],
   "source": [
    "df_fsq['category'].value_counts()"
   ]
  },
  {
   "cell_type": "code",
   "execution_count": 112,
   "metadata": {},
   "outputs": [
    {
     "data": {
      "text/plain": [
       "array(['Park', 'Monument', 'TV Station', 'Castle', 'Film Studio',\n",
       "       'Palace', 'Fountain', 'Bridge', 'Beach',\n",
       "       'Print, TV, Radio and Outdoor Advertising Service'], dtype=object)"
      ]
     },
     "execution_count": 112,
     "metadata": {},
     "output_type": "execute_result"
    }
   ],
   "source": [
    "df_fsq['category'].unique()"
   ]
  },
  {
   "cell_type": "code",
   "execution_count": 274,
   "metadata": {},
   "outputs": [],
   "source": [
    "lista_tuplas_municipios = []\n",
    "for fila in df_municipios.values:\n",
    "    lista_tuplas_municipios.append(tuple(fila))\n",
    "\n",
    "lista_tuplas_fsq = []\n",
    "for fila in df_fsq.values:\n",
    "    lista_tuplas_fsq.append(tuple(fila))\n",
    "\n",
    "lista_tuplas_aemet = []\n",
    "for fila in df_aemet.values:\n",
    "    lista_tuplas_aemet.append(tuple(fila))\n"
   ]
  },
  {
   "cell_type": "markdown",
   "metadata": {},
   "source": [
    "## Creación de tablas"
   ]
  },
  {
   "cell_type": "code",
   "execution_count": 145,
   "metadata": {},
   "outputs": [],
   "source": [
    "query_creacion_municipios = '''\n",
    "    create table if not exists municipios(\n",
    "        id_municipio VARCHAR(100) primary key, \n",
    "        latitud INT,\n",
    "        longitud INT,\n",
    "        nombre VARCHAR(100)\n",
    "        ); '''\n",
    "\n",
    "cursor.execute(query_creacion_municipios)\n",
    "conexion.commit()"
   ]
  },
  {
   "cell_type": "code",
   "execution_count": 153,
   "metadata": {},
   "outputs": [],
   "source": [
    "query_creacion_locales = '''\n",
    "    create table if not exists locales (\n",
    "        id_local SERIAL primary key,\n",
    "        id_municipio VARCHAR(100)\n",
    "            references municipios(id_municipio)\n",
    "            on update cascade,\n",
    "        categoria CHAR(50),\n",
    "        estado CHAR(50),\n",
    "        distancia INT,\n",
    "        link VARCHAR(100),\n",
    "        nombre VARCHAR(100),\n",
    "        direccion VARCHAR(300),\n",
    "        latitud DECIMAL,\n",
    "        longitud DECIMAL\n",
    "    );'''\n",
    "\n",
    "cursor.execute(query_creacion_locales)\n",
    "conexion.commit()"
   ]
  },
  {
   "cell_type": "code",
   "execution_count": 288,
   "metadata": {},
   "outputs": [],
   "source": [
    "query_creacion_clima = '''\n",
    "    create table if not exists clima (\n",
    "        id_clima SERIAL primary key,\n",
    "        fecha DATE,\n",
    "        cielo VARCHAR(50),\n",
    "        temperatura DECIMAL,\n",
    "        sensacion DECIMAL,\n",
    "        racha_max DECIMAL,\n",
    "        precipitacion DECIMAL,\n",
    "        nieve DECIMAL,\n",
    "        humedad_relativa DECIMAL,\n",
    "        prob_nieve DECIMAL,\n",
    "        prob_tormenta DECIMAL,\n",
    "        direccion_viento VARCHAR(10),\n",
    "        velocidad_viento DECIMAL,\n",
    "        municipio_id VARCHAR(100)\n",
    "            references municipios(id_municipio)\n",
    "            on update cascade,\n",
    "        hora VARCHAR (20)\n",
    "    );'''\n",
    "\n",
    "cursor.execute(query_creacion_clima)\n",
    "conexion.commit()"
   ]
  },
  {
   "cell_type": "code",
   "execution_count": 192,
   "metadata": {},
   "outputs": [],
   "source": [
    "query_insercion_municipios = '''\n",
    "    insert into municipios (id_municipio, latitud, longitud, nombre)\n",
    "    values\n",
    "    (%s, %s, %s, %s)''' \n",
    "\n",
    "cursor.executemany(query_insercion_municipios, lista_tuplas_municipios) \n",
    "conexion.commit()"
   ]
  },
  {
   "cell_type": "code",
   "execution_count": 196,
   "metadata": {},
   "outputs": [],
   "source": [
    "query_insercion_locales = '''\n",
    "    insert into locales (id_municipio, categoria, estado, distancia, link, nombre, direccion, latitud, longitud)\n",
    "    values\n",
    "    (%s, %s, %s, %s, %s, %s, %s, %s, %s)''' \n",
    "\n",
    "cursor.executemany(query_insercion_locales, lista_tuplas_fsq) \n",
    "conexion.commit()"
   ]
  },
  {
   "cell_type": "code",
   "execution_count": 289,
   "metadata": {},
   "outputs": [],
   "source": [
    "query_insercion_clima = '''\n",
    "    insert into clima (fecha, cielo, temperatura, sensacion, racha_max, precipitacion, nieve, humedad_relativa, prob_nieve, prob_tormenta, direccion_viento, velocidad_viento, municipio_id, hora)\n",
    "    values\n",
    "    (%s, %s, %s, %s, %s, %s, %s, %s, %s, %s, %s, %s, %s, %s)'''\n",
    "\n",
    "cursor.executemany(query_insercion_clima, lista_tuplas_aemet)\n",
    "conexion.commit()"
   ]
  },
  {
   "cell_type": "markdown",
   "metadata": {},
   "source": [
    "## Queries"
   ]
  },
  {
   "cell_type": "markdown",
   "metadata": {},
   "source": [
    "#### 1. Contar municipios con más de 5 locales"
   ]
  },
  {
   "cell_type": "code",
   "execution_count": 321,
   "metadata": {},
   "outputs": [],
   "source": [
    "query1 = '''\n",
    "    select m.nombre, count(l.id_local)\n",
    "    from municipios m\n",
    "    inner join locales l on\n",
    "        m.id_municipio = l.id_municipio\n",
    "        \n",
    "    group by m.nombre\n",
    "    having count(l.id_local) > 5;\n",
    "'''\n",
    "\n",
    "cursor.execute(query1)\n",
    "df_municipios_locales = pd.DataFrame(cursor.fetchall())"
   ]
  },
  {
   "cell_type": "code",
   "execution_count": 323,
   "metadata": {},
   "outputs": [
    {
     "data": {
      "text/html": [
       "<div>\n",
       "<style scoped>\n",
       "    .dataframe tbody tr th:only-of-type {\n",
       "        vertical-align: middle;\n",
       "    }\n",
       "\n",
       "    .dataframe tbody tr th {\n",
       "        vertical-align: top;\n",
       "    }\n",
       "\n",
       "    .dataframe thead th {\n",
       "        text-align: right;\n",
       "    }\n",
       "</style>\n",
       "<table border=\"1\" class=\"dataframe\">\n",
       "  <thead>\n",
       "    <tr style=\"text-align: right;\">\n",
       "      <th></th>\n",
       "      <th>0</th>\n",
       "      <th>1</th>\n",
       "    </tr>\n",
       "  </thead>\n",
       "  <tbody>\n",
       "    <tr>\n",
       "      <th>0</th>\n",
       "      <td>Collado Villalba</td>\n",
       "      <td>13</td>\n",
       "    </tr>\n",
       "    <tr>\n",
       "      <th>1</th>\n",
       "      <td>Real Monasterio de San Lorenzo de El Escorial</td>\n",
       "      <td>16</td>\n",
       "    </tr>\n",
       "    <tr>\n",
       "      <th>2</th>\n",
       "      <td>Coslada</td>\n",
       "      <td>13</td>\n",
       "    </tr>\n",
       "    <tr>\n",
       "      <th>3</th>\n",
       "      <td>Villanueva del Pardillo</td>\n",
       "      <td>6</td>\n",
       "    </tr>\n",
       "    <tr>\n",
       "      <th>4</th>\n",
       "      <td>Móstoles</td>\n",
       "      <td>37</td>\n",
       "    </tr>\n",
       "  </tbody>\n",
       "</table>\n",
       "</div>"
      ],
      "text/plain": [
       "                                               0   1\n",
       "0                               Collado Villalba  13\n",
       "1  Real Monasterio de San Lorenzo de El Escorial  16\n",
       "2                                        Coslada  13\n",
       "3                        Villanueva del Pardillo   6\n",
       "4                                       Móstoles  37"
      ]
     },
     "execution_count": 323,
     "metadata": {},
     "output_type": "execute_result"
    }
   ],
   "source": [
    "df_municipios_locales.head(5)"
   ]
  },
  {
   "cell_type": "markdown",
   "metadata": {},
   "source": [
    "#### 2. Municipio con la temperatura más alta"
   ]
  },
  {
   "cell_type": "code",
   "execution_count": 305,
   "metadata": {},
   "outputs": [],
   "source": [
    "query2 = '''\n",
    "    select m.nombre, c.temperatura \n",
    "    from clima c\n",
    "    inner join municipios m\n",
    "        on c.municipio_id = m.id_municipio\n",
    "    order by c.temperatura desc\n",
    "    limit 1;\n",
    "    '''\n",
    "\n",
    "cursor.execute(query2)\n",
    "df_temp_mas_alta = pd.DataFrame(cursor.fetchall()).head() "
   ]
  },
  {
   "cell_type": "code",
   "execution_count": 306,
   "metadata": {},
   "outputs": [
    {
     "data": {
      "text/html": [
       "<div>\n",
       "<style scoped>\n",
       "    .dataframe tbody tr th:only-of-type {\n",
       "        vertical-align: middle;\n",
       "    }\n",
       "\n",
       "    .dataframe tbody tr th {\n",
       "        vertical-align: top;\n",
       "    }\n",
       "\n",
       "    .dataframe thead th {\n",
       "        text-align: right;\n",
       "    }\n",
       "</style>\n",
       "<table border=\"1\" class=\"dataframe\">\n",
       "  <thead>\n",
       "    <tr style=\"text-align: right;\">\n",
       "      <th></th>\n",
       "      <th>0</th>\n",
       "      <th>1</th>\n",
       "    </tr>\n",
       "  </thead>\n",
       "  <tbody>\n",
       "    <tr>\n",
       "      <th>0</th>\n",
       "      <td>Aldea del Fresno</td>\n",
       "      <td>32</td>\n",
       "    </tr>\n",
       "  </tbody>\n",
       "</table>\n",
       "</div>"
      ],
      "text/plain": [
       "                  0   1\n",
       "0  Aldea del Fresno  32"
      ]
     },
     "execution_count": 306,
     "metadata": {},
     "output_type": "execute_result"
    }
   ],
   "source": [
    "df_temp_mas_alta"
   ]
  },
  {
   "cell_type": "code",
   "execution_count": 313,
   "metadata": {},
   "outputs": [
    {
     "data": {
      "text/plain": [
       "'2024-08-29'"
      ]
     },
     "execution_count": 313,
     "metadata": {},
     "output_type": "execute_result"
    }
   ],
   "source": [
    "lista_tuplas_aemet[0][0]"
   ]
  },
  {
   "cell_type": "code",
   "execution_count": 343,
   "metadata": {},
   "outputs": [
    {
     "data": {
      "text/plain": [
       "'17:00:00'"
      ]
     },
     "execution_count": 343,
     "metadata": {},
     "output_type": "execute_result"
    }
   ],
   "source": [
    "lista_tuplas_aemet[5][13]"
   ]
  },
  {
   "cell_type": "markdown",
   "metadata": {},
   "source": [
    "#### 3. Locales a menos de 5km del centro del municipiop con cielo nublado el 30 de agosto a las 17hrs\n"
   ]
  },
  {
   "cell_type": "code",
   "execution_count": null,
   "metadata": {},
   "outputs": [],
   "source": []
  },
  {
   "cell_type": "markdown",
   "metadata": {},
   "source": [
    "#### 4. Locales en municipios con cielo despejado el 29 de agosto de 2024"
   ]
  },
  {
   "cell_type": "code",
   "execution_count": 325,
   "metadata": {},
   "outputs": [],
   "source": [
    "query4 = '''\n",
    "    select l.nombre\n",
    "    from locales l\n",
    "    inner join clima c on l.id_municipio = c.municipio_id\n",
    "    where c.cielo = 'Cielo despejado' and c.fecha = '2024-08-29';'''\n",
    "\n",
    "cursor.execute(query4)\n",
    "df_despejado = pd.DataFrame(cursor.fetchall())"
   ]
  },
  {
   "cell_type": "code",
   "execution_count": 326,
   "metadata": {},
   "outputs": [
    {
     "data": {
      "text/html": [
       "<div>\n",
       "<style scoped>\n",
       "    .dataframe tbody tr th:only-of-type {\n",
       "        vertical-align: middle;\n",
       "    }\n",
       "\n",
       "    .dataframe tbody tr th {\n",
       "        vertical-align: top;\n",
       "    }\n",
       "\n",
       "    .dataframe thead th {\n",
       "        text-align: right;\n",
       "    }\n",
       "</style>\n",
       "<table border=\"1\" class=\"dataframe\">\n",
       "  <thead>\n",
       "    <tr style=\"text-align: right;\">\n",
       "      <th></th>\n",
       "      <th>0</th>\n",
       "    </tr>\n",
       "  </thead>\n",
       "  <tbody>\n",
       "    <tr>\n",
       "      <th>0</th>\n",
       "      <td>Digi24</td>\n",
       "    </tr>\n",
       "    <tr>\n",
       "      <th>1</th>\n",
       "      <td>Monumento a los Reyes Católicos</td>\n",
       "    </tr>\n",
       "    <tr>\n",
       "      <th>2</th>\n",
       "      <td>Parroquia de Nuestra Señora de la Moraleja</td>\n",
       "    </tr>\n",
       "    <tr>\n",
       "      <th>3</th>\n",
       "      <td>Parque de la Marina</td>\n",
       "    </tr>\n",
       "    <tr>\n",
       "      <th>4</th>\n",
       "      <td>Parque de las Cepas</td>\n",
       "    </tr>\n",
       "    <tr>\n",
       "      <th>...</th>\n",
       "      <td>...</td>\n",
       "    </tr>\n",
       "    <tr>\n",
       "      <th>292</th>\n",
       "      <td>Parque Enrique Tierno Galván</td>\n",
       "    </tr>\n",
       "    <tr>\n",
       "      <th>293</th>\n",
       "      <td>Los Lagos</td>\n",
       "    </tr>\n",
       "    <tr>\n",
       "      <th>294</th>\n",
       "      <td>Parque Forestal Cerro del Castillo</td>\n",
       "    </tr>\n",
       "    <tr>\n",
       "      <th>295</th>\n",
       "      <td>Parque Infantil</td>\n",
       "    </tr>\n",
       "    <tr>\n",
       "      <th>296</th>\n",
       "      <td>Parque Infantil</td>\n",
       "    </tr>\n",
       "  </tbody>\n",
       "</table>\n",
       "<p>297 rows × 1 columns</p>\n",
       "</div>"
      ],
      "text/plain": [
       "                                              0\n",
       "0                                        Digi24\n",
       "1               Monumento a los Reyes Católicos\n",
       "2    Parroquia de Nuestra Señora de la Moraleja\n",
       "3                           Parque de la Marina\n",
       "4                           Parque de las Cepas\n",
       "..                                          ...\n",
       "292                Parque Enrique Tierno Galván\n",
       "293                                   Los Lagos\n",
       "294          Parque Forestal Cerro del Castillo\n",
       "295                             Parque Infantil\n",
       "296                             Parque Infantil\n",
       "\n",
       "[297 rows x 1 columns]"
      ]
     },
     "execution_count": 326,
     "metadata": {},
     "output_type": "execute_result"
    }
   ],
   "source": [
    "df_despejado"
   ]
  },
  {
   "cell_type": "markdown",
   "metadata": {},
   "source": [
    "#### 5. Temperatura promedio por municipio"
   ]
  },
  {
   "cell_type": "code",
   "execution_count": 344,
   "metadata": {},
   "outputs": [],
   "source": [
    "query5 = '''\n",
    "    select m.nombre, round(avg(c.temperatura), 2)\n",
    "    from clima c\n",
    "    join municipios m on c.municipio_id = m.id_municipio\n",
    "    group by m.nombre;\n",
    "'''\n",
    "\n",
    "cursor.execute(query5)\n",
    "df_temp_promedio = pd.DataFrame(cursor.fetchall())"
   ]
  },
  {
   "cell_type": "code",
   "execution_count": 345,
   "metadata": {},
   "outputs": [
    {
     "data": {
      "text/html": [
       "<div>\n",
       "<style scoped>\n",
       "    .dataframe tbody tr th:only-of-type {\n",
       "        vertical-align: middle;\n",
       "    }\n",
       "\n",
       "    .dataframe tbody tr th {\n",
       "        vertical-align: top;\n",
       "    }\n",
       "\n",
       "    .dataframe thead th {\n",
       "        text-align: right;\n",
       "    }\n",
       "</style>\n",
       "<table border=\"1\" class=\"dataframe\">\n",
       "  <thead>\n",
       "    <tr style=\"text-align: right;\">\n",
       "      <th></th>\n",
       "      <th>0</th>\n",
       "      <th>1</th>\n",
       "    </tr>\n",
       "  </thead>\n",
       "  <tbody>\n",
       "    <tr>\n",
       "      <th>0</th>\n",
       "      <td>Villavieja del Lozoya</td>\n",
       "      <td>19.32</td>\n",
       "    </tr>\n",
       "    <tr>\n",
       "      <th>1</th>\n",
       "      <td>Redueña</td>\n",
       "      <td>20.91</td>\n",
       "    </tr>\n",
       "    <tr>\n",
       "      <th>2</th>\n",
       "      <td>Camarma de Esteruelas</td>\n",
       "      <td>22.11</td>\n",
       "    </tr>\n",
       "    <tr>\n",
       "      <th>3</th>\n",
       "      <td>Collado Villalba</td>\n",
       "      <td>21.73</td>\n",
       "    </tr>\n",
       "    <tr>\n",
       "      <th>4</th>\n",
       "      <td>Villamantilla</td>\n",
       "      <td>23.20</td>\n",
       "    </tr>\n",
       "  </tbody>\n",
       "</table>\n",
       "</div>"
      ],
      "text/plain": [
       "                       0      1\n",
       "0  Villavieja del Lozoya  19.32\n",
       "1                Redueña  20.91\n",
       "2  Camarma de Esteruelas  22.11\n",
       "3       Collado Villalba  21.73\n",
       "4          Villamantilla  23.20"
      ]
     },
     "execution_count": 345,
     "metadata": {},
     "output_type": "execute_result"
    }
   ],
   "source": [
    "df_temp_promedio.head(5)"
   ]
  }
 ],
 "metadata": {
  "kernelspec": {
   "display_name": "Python 3",
   "language": "python",
   "name": "python3"
  },
  "language_info": {
   "codemirror_mode": {
    "name": "ipython",
    "version": 3
   },
   "file_extension": ".py",
   "mimetype": "text/x-python",
   "name": "python",
   "nbconvert_exporter": "python",
   "pygments_lexer": "ipython3",
   "version": "3.9.6"
  }
 },
 "nbformat": 4,
 "nbformat_minor": 2
}
